{
 "cells": [
  {
   "cell_type": "markdown",
   "metadata": {},
   "source": [
    "Selenium\n",
    "\n",
    "In order to get started please make sure you have:\n",
    "- Edge Browser (currently Chrome driver is not available)\n",
    "- Download a suitable Edge driver (https://pypi.org/project/selenium/)\n",
    "- Install Selenium (check link above) in your command line (Anaconda prompt)\n",
    "\n",
    "After this steps, you should be able launch Edge driver"
   ]
  },
  {
   "cell_type": "markdown",
   "metadata": {},
   "source": [
    "Requests with BeautifulSoup approach"
   ]
  },
  {
   "cell_type": "code",
   "execution_count": 1,
   "metadata": {},
   "outputs": [
    {
     "data": {
      "text/plain": [
       "[]"
      ]
     },
     "execution_count": 1,
     "metadata": {},
     "output_type": "execute_result"
    }
   ],
   "source": [
    "### But first let's see why we need Selenium\n",
    "### Typical approach using requests and bs4 libraries\n",
    "\n",
    "import requests\n",
    "from bs4 import BeautifulSoup\n",
    "\n",
    "url = \"https://remax.pt/comprar?searchQueryState=%7B%22regionName%22:%22Lisboa%22,%22businessType%22:1,%22page%22:1,%22regionID%22:%22%22,%22regionType%22:%22%22,%22sort%22:%7B%22fieldToSort%22:%22PublishDate%22,%22order%22:1%7D,%22mapIsOpen%22:false%7D\"\n",
    "\n",
    "r = requests.get(url)\n",
    "soup = BeautifulSoup(r.content)\n",
    "items = soup.find_all(\"div\", attrs = {\"class\":\"col-12 col-sm-6 col-md-6 col-lg-4 col-xl-3 result\"})\n",
    "items\n",
    "\n",
    "\n",
    "#empty set..."
   ]
  },
  {
   "cell_type": "markdown",
   "metadata": {},
   "source": [
    "Finally, Selenium to the rescue"
   ]
  },
  {
   "cell_type": "code",
   "execution_count": 3,
   "metadata": {},
   "outputs": [],
   "source": [
    "#Libraries\n",
    "from selenium import webdriver\n",
    "from selenium.webdriver.common.by import By\n",
    "from selenium.webdriver.common.keys import Keys\n",
    "\n",
    "import time"
   ]
  },
  {
   "cell_type": "code",
   "execution_count": 5,
   "metadata": {},
   "outputs": [],
   "source": [
    "url = \"https://remax.pt/comprar?searchQueryState=%7B%22regionName%22:%22Lisboa%22,%22businessType%22:1,%22page%22:1,%22regionID%22:%22%22,%22regionType%22:%22%22,%22sort%22:%7B%22fieldToSort%22:%22PublishDate%22,%22order%22:1%7D,%22mapIsOpen%22:false%7D\"\n",
    "\n",
    "driver = webdriver.Edge()\n",
    "driver.get(url)\n",
    "time.sleep(2)"
   ]
  },
  {
   "cell_type": "code",
   "execution_count": 7,
   "metadata": {},
   "outputs": [
    {
     "data": {
      "text/plain": [
       "20"
      ]
     },
     "execution_count": 7,
     "metadata": {},
     "output_type": "execute_result"
    }
   ],
   "source": [
    "html = driver.page_source\n",
    "soup = BeautifulSoup(html)\n",
    "items = soup.find_all(\"div\", attrs = {\"class\":\"col-12 col-sm-6 col-md-6 col-lg-4 col-xl-3 result\"})\n",
    "len(items)"
   ]
  },
  {
   "cell_type": "code",
   "execution_count": null,
   "metadata": {},
   "outputs": [],
   "source": [
    "## Many more we can do with selenium, we can click on buttons (to surpass authentications, go to the bottom of a web page to surpass infinity scrolls, etc etc)"
   ]
  }
 ],
 "metadata": {
  "kernelspec": {
   "display_name": "Python 3",
   "language": "python",
   "name": "python3"
  },
  "language_info": {
   "codemirror_mode": {
    "name": "ipython",
    "version": 3
   },
   "file_extension": ".py",
   "mimetype": "text/x-python",
   "name": "python",
   "nbconvert_exporter": "python",
   "pygments_lexer": "ipython3",
   "version": "3.10.9"
  }
 },
 "nbformat": 4,
 "nbformat_minor": 2
}
